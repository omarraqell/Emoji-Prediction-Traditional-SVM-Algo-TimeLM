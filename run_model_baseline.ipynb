{
  "cells": [
    {
      "cell_type": "markdown",
      "metadata": {
        "id": "4PCsd9yk5kML"
      },
      "source": [
        "# Baseline Model · Naïve Bayes\n",
        "A simple model using Naïve Bayes (optionally SVM instead) to predict emoji.\n",
        "\n",
        "Will be used to practise handling the emoji dataset and using it to train a model, and test preprocessing steps.\n",
        "Will also provide a baseline to compare our final models to."
      ]
    },
    {
      "cell_type": "code",
      "execution_count": null,
      "metadata": {
        "colab": {
          "base_uri": "https://localhost:8080/"
        },
        "id": "HosXMPPO5ekw",
        "outputId": "f2acca70-39c3-48ef-f2e4-e8e3f215fa07"
      },
      "outputs": [],
      "source": [
        "# Import libraries\n",
        "import pandas as pd\n",
        "import numpy as np\n",
        "import matplotlib.pyplot as plt\n",
        "import random\n",
        "\n",
        "import nltk\n",
        "nltk.download('stopwords')\n",
        "from nltk.corpus import stopwords\n",
        "\n",
        "import os\n",
        "from sklearn.pipeline import make_pipeline\n",
        "from sklearn.feature_extraction.text import TfidfVectorizer\n",
        "from sklearn.naive_bayes import MultinomialNB\n",
        "from sklearn.svm import LinearSVC, SVC\n",
        "from sklearn.calibration import CalibratedClassifierCV\n",
        "from sklearn.metrics import confusion_matrix, ConfusionMatrixDisplay, classification_report\n",
        "from pandas import DataFrame\n",
        "!pip install openpyxl"
      ]
    },
    {
      "cell_type": "code",
      "execution_count": 2,
      "metadata": {
        "id": "MSUVCuXP6cow"
      },
      "outputs": [],
      "source": [
        "# Load data from file\n",
        "# Dataframes have columns 'text', 'gold_label' and 'date'\n",
        "dirpath = ''\n",
        "\n",
        "        \n",
        "df_train = pd.read_csv(dirpath + 'emoji-train.csv')\n",
        "df_test = pd.read_csv(dirpath + 'emoji-test.csv')\n",
        "df_val = pd.read_csv(dirpath + 'emoji-validation.csv')\n",
        "\n",
        "## Load in the training data\n",
        "\n",
        "train_X = df_train['text']\n",
        "train_y = df_train['gold_label']\n",
        "\n",
        "## Load in the test data\n",
        "\n",
        "test_X = df_test['text']\n",
        "test_gold_y = df_test['gold_label']\n",
        "test_date = df_test['date']"
      ]
    },
    {
      "cell_type": "code",
      "execution_count": 3,
      "metadata": {
        "id": "ny3FTGjk6Vsz"
      },
      "outputs": [],
      "source": [
        "# Construct pipeline\n",
        "\n",
        "# tf-idf vectoriser with n-grams\n",
        "vectoriser = TfidfVectorizer(lowercase=True, stop_words=stopwords.words('english'), ngram_range=(1,2), min_df=1)\n",
        "# Naive Bayes\n",
        "naivebayes = MultinomialNB()\n",
        "\n",
        "pipe = make_pipeline(vectoriser, naivebayes)"
      ]
    },
    {
      "cell_type": "code",
      "execution_count": null,
      "metadata": {
        "colab": {
          "base_uri": "https://localhost:8080/",
          "height": 155
        },
        "id": "KKee41v96f6A",
        "outputId": "c78a1107-f4e3-4944-f7e0-76e04e7d4516"
      },
      "outputs": [],
      "source": [
        "# Train model\n",
        "pipe.fit(train_X, train_y)"
      ]
    },
    {
      "cell_type": "code",
      "execution_count": 5,
      "metadata": {
        "colab": {
          "base_uri": "https://localhost:8080/",
          "height": 664
        },
        "collapsed": true,
        "id": "Wwc2RrofxrV6",
        "outputId": "0da09dfa-297c-469b-be47-722f1066e9fc"
      },
      "outputs": [],
      "source": [
        "# make predictions, evaluate model (top-5 predictions)\n",
        "test_pred_y_probs = pipe.predict_proba(test_X)\n",
        "pred_ids = np.argpartition(test_pred_y_probs, kth=-5, axis=1)\n",
        "candidate_preds = pred_ids[:, -5:]\n",
        "\n",
        "# Evaluate the model and store the results in a csv file\n",
        "l1 = []\n",
        "l2 = []\n",
        "l3 = []\n",
        "l4 = []\n",
        "l5 = []\n",
        "l6 = []\n",
        "\n",
        "for e in range(len(candidate_preds)):\n",
        "    l1.append(e)\n",
        "    l2.append(test_X[e])\n",
        "    l3.append(test_date[e])\n",
        "    l4.append(candidate_preds[e][-1])\n",
        "    l5.append(candidate_preds[e])\n",
        "    l6.append(test_gold_y[e])\n",
        "\n",
        "df = DataFrame({'Index' : l1, \"Text\" : l2, \"Date\" : l3, \"top1\" : l4, \"top5\" : l5, \"label\" : l6})\n",
        "\n",
        "df.to_csv('results_baselinenaivebayes.csv', index = False)\n"
      ]
    }
  ],
  "metadata": {
    "colab": {
      "provenance": []
    },
    "kernelspec": {
      "display_name": "python_venv",
      "language": "python",
      "name": "python3"
    },
    "language_info": {
      "codemirror_mode": {
        "name": "ipython",
        "version": 3
      },
      "file_extension": ".py",
      "mimetype": "text/x-python",
      "name": "python",
      "nbconvert_exporter": "python",
      "pygments_lexer": "ipython3",
      "version": "3.12.8"
    }
  },
  "nbformat": 4,
  "nbformat_minor": 0
}
